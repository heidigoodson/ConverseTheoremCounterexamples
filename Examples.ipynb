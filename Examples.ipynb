{
 "cells": [
  {
   "cell_type": "code",
   "execution_count": 1,
   "metadata": {
    "collapsed": false
   },
   "outputs": [
   ],
   "source": [
    "%load_ext sage"
   ]
  },
  {
   "cell_type": "code",
   "execution_count": 2,
   "metadata": {
    "collapsed": false
   },
   "outputs": [
   ],
   "source": [
    "load('ConverseTheoremCounterexample.sage')\n",
    "from sage.rings.algebraic_closure_finite_field import AlgebraicClosureFiniteField #This is needed for the algebraic closure command"
   ]
  },
  {
   "cell_type": "code",
   "execution_count": 3,
   "metadata": {
    "collapsed": false
   },
   "outputs": [
    {
     "name": "stdout",
     "output_type": "stream",
     "text": [
      "Initial parameters: (ell, q, coprime_m, coprime_n) =  (3, 7, 16, 2)\n",
      "\n",
      "Powers of nu = [1, 2, 3, 4, 6, 9, 11]\n"
     ]
    },
    {
     "name": "stdout",
     "output_type": "stream",
     "text": [
      "Powers of nu that potentially lead to duplicate gamma factors:  [6, 2]\n",
      "\n",
      "We now compute their gamma factors:\n",
      "nu_power: 6  has gamma factors:  [1, 1, 1]\n"
     ]
    },
    {
     "name": "stdout",
     "output_type": "stream",
     "text": [
      "nu_power: 2  has gamma factors:  [1, 1, 1]\n",
      "\n",
      "For ell= 3 and q= 7  the duplicate gamma factors are the following:\n",
      "[(1, 1, 1)]\n"
     ]
    }
   ],
   "source": [
    "#Choice of parameters to test for counterexamples\n",
    "ell = 3\n",
    "q= 7\n",
    "\n",
    "#setting up our fields\n",
    "C=AlgebraicClosureFiniteField(GF(ell), 'y')\n",
    "L.<w>=GF(q^2, modulus=\"primitive\") #w is a generator of the multiplicative group\n",
    "\n",
    "#Choice of primitive roots of unity\n",
    "m=q^2-1 #size of mult group of the quadratic extension L\n",
    "v_m=ell_adic_valuation(q^2-1) #ell-adic valuation of m\n",
    "coprime_m=Integer((q^2-1)/(ell^v_m)) # part of m coprime to ell\n",
    "nu=C.zeta(coprime_m)# our choice of mth root of unity\n",
    "\n",
    "n=q-1 #size of mult group of F\n",
    "v_n=ell_adic_valuation(q-1) #ell-adic valuation of n\n",
    "coprime_n=Integer((q-1)/(ell^v_n)) #part of n coprime to ell\n",
    "omega=C.zeta(coprime_n)# our choice of nth root of unity\n",
    "\n",
    "psi=C.zeta(q) #primitive qth root of unity mod ell the character psi sends 1 to this root\n",
    "\n",
    "###########################\n",
    "#Testing for duplicate gamma factors\n",
    "iscounterexample(q)"
   ]
  },
  {
   "cell_type": "code",
   "execution_count": 4,
   "metadata": {
    "collapsed": false
   },
   "outputs": [
    {
     "name": "stdout",
     "output_type": "stream",
     "text": [
      "Initial parameters: (ell, q, coprime_m, coprime_n) =  (5, 11, 24, 2)\n",
      "\n",
      "Powers of nu = [1, 2, 3, 4, 5, 6, 8, 10, 13, 15, 17]\n"
     ]
    },
    {
     "name": "stdout",
     "output_type": "stream",
     "text": [
      "Powers of nu that potentially lead to duplicate gamma factors:  [6, 2, 8, 4, 10]\n",
      "\n",
      "We now compute their gamma factors:\n"
     ]
    },
    {
     "name": "stdout",
     "output_type": "stream",
     "text": [
      "nu_power: 6  has gamma factors:  [1, 1, 1]\n"
     ]
    },
    {
     "name": "stdout",
     "output_type": "stream",
     "text": [
      "nu_power: 2  has gamma factors:  [1, 1, 1]\n"
     ]
    },
    {
     "name": "stdout",
     "output_type": "stream",
     "text": [
      "nu_power: 8  has gamma factors:  [4, 4, 1]\n"
     ]
    },
    {
     "name": "stdout",
     "output_type": "stream",
     "text": [
      "nu_power: 4  has gamma factors:  [4, 4, 1]\n"
     ]
    },
    {
     "name": "stdout",
     "output_type": "stream",
     "text": [
      "nu_power: 10  has gamma factors:  [1, 1, 1]\n",
      "\n",
      "For ell= 5 and q= 11  the duplicate gamma factors are the following:\n",
      "[(1, 1, 1), (4, 4, 1), (1, 1, 1)]\n"
     ]
    }
   ],
   "source": [
    "#Choice of parameters to test for counterexamples\n",
    "ell = 5\n",
    "q= 11\n",
    "\n",
    "#setting up our fields\n",
    "C=AlgebraicClosureFiniteField(GF(ell), 'y')\n",
    "L.<w>=GF(q^2, modulus=\"primitive\") #w is a generator of the multiplicative group\n",
    "\n",
    "#Choice of primitive roots of unity\n",
    "m=q^2-1 #size of mult group of the quadratic extension L\n",
    "v_m=ell_adic_valuation(q^2-1) #ell-adic valuation of m\n",
    "coprime_m=Integer((q^2-1)/(ell^v_m)) # part of m coprime to ell\n",
    "nu=C.zeta(coprime_m)# our choice of mth root of unity\n",
    "\n",
    "n=q-1 #size of mult group of F\n",
    "v_n=ell_adic_valuation(q-1) #ell-adic valuation of n\n",
    "coprime_n=Integer((q-1)/(ell^v_n)) #part of n coprime to ell\n",
    "omega=C.zeta(coprime_n)# our choice of nth root of unity\n",
    "\n",
    "psi=C.zeta(q) #primitive qth root of unity mod ell the character psi sends 1 to this root\n",
    "\n",
    "###########################\n",
    "#Testing for duplicate gamma factors\n",
    "iscounterexample(q)"
   ]
  },
  {
   "cell_type": "code",
   "execution_count": 5,
   "metadata": {
    "collapsed": false
   },
   "outputs": [
    {
     "name": "stdout",
     "output_type": "stream",
     "text": [
      "Initial parameters: (ell, q, coprime_m, coprime_n) =  (11, 23, 48, 2)\n",
      "\n",
      "Powers of nu = [1, 2, 3, 4, 5, 6, 7, 8, 9, 10, 11, 12, 14, 16, 18, 20, 22, 25, 27, 29, 31, 33, 35]\n"
     ]
    },
    {
     "name": "stdout",
     "output_type": "stream",
     "text": [
      "Powers of nu that potentially lead to duplicate gamma factors:  [6, 2, 8, 4, 10, 12, 14, 16, 18, 20, 22]\n",
      "\n",
      "We now compute their gamma factors:\n"
     ]
    },
    {
     "name": "stdout",
     "output_type": "stream",
     "text": [
      "nu_power: 6  has gamma factors:  [1, 1, 1]\n"
     ]
    },
    {
     "name": "stdout",
     "output_type": "stream",
     "text": [
      "nu_power: 2  has gamma factors:  [1, 1, 1]\n"
     ]
    },
    {
     "name": "stdout",
     "output_type": "stream",
     "text": [
      "nu_power: 8  has gamma factors:  [10, 10, 1]\n"
     ]
    },
    {
     "name": "stdout",
     "output_type": "stream",
     "text": [
      "nu_power: 4  has gamma factors:  [10, 10, 1]\n"
     ]
    },
    {
     "name": "stdout",
     "output_type": "stream",
     "text": [
      "nu_power: 10  has gamma factors:  [1, 1, 1]\n"
     ]
    },
    {
     "name": "stdout",
     "output_type": "stream",
     "text": [
      "nu_power: 12  has gamma factors:  [10, 10, 1]\n"
     ]
    },
    {
     "name": "stdout",
     "output_type": "stream",
     "text": [
      "nu_power: 14  has gamma factors:  [1, 1, 1]\n"
     ]
    },
    {
     "name": "stdout",
     "output_type": "stream",
     "text": [
      "nu_power: 16  has gamma factors:  [10, 10, 1]\n"
     ]
    },
    {
     "name": "stdout",
     "output_type": "stream",
     "text": [
      "nu_power: 18  has gamma factors:  [1, 1, 1]\n"
     ]
    },
    {
     "name": "stdout",
     "output_type": "stream",
     "text": [
      "nu_power: 20  has gamma factors:  [10, 10, 1]\n"
     ]
    },
    {
     "name": "stdout",
     "output_type": "stream",
     "text": [
      "nu_power: 22  has gamma factors:  [1, 1, 1]\n",
      "\n",
      "For ell= 11 and q= 23  the duplicate gamma factors are the following:\n",
      "[(1, 1, 1), (10, 10, 1), (1, 1, 1), (10, 10, 1), (1, 1, 1), (10, 10, 1), (1, 1, 1), (10, 10, 1), (1, 1, 1)]\n"
     ]
    }
   ],
   "source": [
    "#Choice of parameters to test for counterexamples\n",
    "ell = 11\n",
    "q= 23\n",
    "\n",
    "#setting up our fields\n",
    "C=AlgebraicClosureFiniteField(GF(ell), 'y')\n",
    "L.<w>=GF(q^2, modulus=\"primitive\") #w is a generator of the multiplicative group\n",
    "\n",
    "#Choice of primitive roots of unity\n",
    "m=q^2-1 #size of mult group of the quadratic extension L\n",
    "v_m=ell_adic_valuation(q^2-1) #ell-adic valuation of m\n",
    "coprime_m=Integer((q^2-1)/(ell^v_m)) # part of m coprime to ell\n",
    "nu=C.zeta(coprime_m)# our choice of mth root of unity\n",
    "\n",
    "n=q-1 #size of mult group of F\n",
    "v_n=ell_adic_valuation(q-1) #ell-adic valuation of n\n",
    "coprime_n=Integer((q-1)/(ell^v_n)) #part of n coprime to ell\n",
    "omega=C.zeta(coprime_n)# our choice of nth root of unity\n",
    "\n",
    "psi=C.zeta(q) #primitive qth root of unity mod ell the character psi sends 1 to this root\n",
    "\n",
    "###########################\n",
    "#Testing for duplicate gamma factors\n",
    "iscounterexample(q)"
   ]
  },
  {
   "cell_type": "code",
   "execution_count": 6,
   "metadata": {
    "collapsed": false
   },
   "outputs": [
    {
     "name": "stdout",
     "output_type": "stream",
     "text": [
      "Initial parameters: (ell, q, coprime_m, coprime_n) =  (3, 11, 40, 10)\n",
      "\n",
      "Powers of nu = [1, 2, 3, 5, 6, 7, 9, 10, 13, 14, 17, 18, 21, 25, 29, 0, 4, 8, 12, 16, 20, 24, 28, 32, 36]\n"
     ]
    },
    {
     "name": "stdout",
     "output_type": "stream",
     "text": [
      "Powers of nu that potentially lead to duplicate gamma factors:  [10, 5, 0, 25, 20]\n",
      "\n",
      "We now compute their gamma factors:\n"
     ]
    },
    {
     "name": "stdout",
     "output_type": "stream",
     "text": [
      "nu_power: 10  has gamma factors:  [2, y20^19 + y20^18 + 2*y20^17 + y20^16 + y20^12 + y20^11 + 2*y20^9 + 2*y20^8 + 2*y20^6 + y20^5 + y20^4 + 2*y20^3 + y20^2 + y20, 2*y20^19 + y20^16 + y20^12 + y20^11 + y20^10 + y20^7 + y20^6 + y20^3 + y20 + 2, y20^18 + 2*y20^17 + 2*y20^15 + 2*y20^14 + y20^13 + y20^12 + 2*y20^11 + y20^9 + 2*y20^8 + y20^7 + y20^6 + 2*y20^5 + 2*y20^4 + 2*y20^3 + 2*y20^2 + 2*y20 + 2, 2*y20^19 + 2*y20^18 + 2*y20^17 + y20^16 + y20^10 + y20^9 + y20^8 + y20^6 + y20^5 + 2*y20^3 + 2*y20^2 + 2*y20, 2, y20^19 + y20^18 + 2*y20^17 + y20^16 + y20^12 + y20^11 + 2*y20^9 + 2*y20^8 + 2*y20^6 + y20^5 + y20^4 + 2*y20^3 + y20^2 + y20, 2*y20^19 + y20^16 + y20^12 + y20^11 + y20^10 + y20^7 + y20^6 + y20^3 + y20 + 2, y20^18 + 2*y20^17 + 2*y20^15 + 2*y20^14 + y20^13 + y20^12 + 2*y20^11 + y20^9 + 2*y20^8 + y20^7 + y20^6 + 2*y20^5 + 2*y20^4 + 2*y20^3 + 2*y20^2 + 2*y20 + 2, 2*y20^19 + 2*y20^18 + 2*y20^17 + y20^16 + y20^10 + y20^9 + y20^8 + y20^6 + y20^5 + 2*y20^3 + 2*y20^2 + 2*y20, 1]\n"
     ]
    },
    {
     "name": "stdout",
     "output_type": "stream",
     "text": [
      "nu_power: 5  has gamma factors:  [2, y20^19 + 2*y20^18 + 2*y20^17 + 2*y20^16 + 2*y20^15 + y20^14 + y20^13 + y20^12 + 2*y20^11 + 2*y20^10 + 2*y20^9 + 2*y20^8 + 2*y20^7 + y20^5 + y20^4 + y20^3 + y20^2 + 2*y20 + 2, y20^19 + 2*y20^18 + y20^17 + 2*y20^15 + y20^13 + y20^9 + 2*y20^6 + y20^4 + y20^2 + y20 + 2, y20^19 + 2*y20^18 + y20^16 + y20^15 + y20^14 + y20^11 + y20^9 + 2*y20^7 + y20^6 + 2*y20^5 + y20^4 + y20^3 + 2*y20, y20^19 + y20^18 + 2*y20^15 + 2*y20^12 + y20^11 + 2*y20^10 + y20^7 + y20^4 + y20^2 + 2, 1, y20^19 + 2*y20^18 + y20^16 + 2*y20^15 + 2*y20^12 + y20^11 + y20^10 + 2*y20^9 + y20^8 + y20^5 + y20^4 + y20^2 + y20 + 2, y20^17 + 2*y20^15 + 2*y20^14 + y20^11 + y20^10 + 2*y20^9 + y20^8 + 2*y20^7 + 2*y20^6 + 2*y20^5 + 2*y20^3 + y20 + 1, y20^19 + 2*y20^16 + 2*y20^15 + 2*y20^14 + 2*y20^11 + 2*y20^9 + 2*y20^7 + 2*y20^6 + y20^5 + 2*y20^4 + y20^3 + 2*y20^2 + y20 + 2, 2*y20^19 + y20^15 + 2*y20^14 + 2*y20^12 + y20^11 + 2*y20^10 + 2*y20^9 + y20^6 + 2*y20^3 + y20^2 + 2, 2]\n"
     ]
    },
    {
     "name": "stdout",
     "output_type": "stream",
     "text": [
      "nu_power: 0  has gamma factors:  [1, 2*y20^19 + 2*y20^17 + 2*y20^15 + 2*y20^14 + 2*y20^12 + 2*y20^11 + 2*y20^10 + 2*y20^8 + y20^7 + 2*y20^6 + y20^3 + y20 + 1, y20^18 + y20^17 + 2*y20^16 + 2*y20^15 + y20^14 + 2*y20^13 + 2*y20^12 + y20^11 + y20^10 + 2*y20^8 + y20^6 + y20^5 + 2*y20^4 + 2*y20^2 + 1, 2*y20^18 + 2*y20^17 + 2*y20^16 + 2*y20^15 + 2*y20^14 + 2*y20^13 + y20^12 + 2*y20^11 + 2*y20^8 + 2*y20^4 + 2*y20^3 + y20^2 + 2*y20 + 1, y20^19 + y20^17 + 2*y20^16 + y20^14 + 2*y20^12 + y20^11 + y20^10 + 2*y20^8 + 2*y20^7 + y20^6 + 2*y20^5 + 2*y20^4 + 2*y20^3 + 2*y20^2 + y20 + 2, 1, y20^18 + 2*y20^17 + 2*y20^16 + 2*y20^15 + 2*y20^14 + 2*y20^13 + 2*y20^12 + 2*y20^11 + y20^8 + y20^7 + y20^6 + 2*y20 + 2, y20^19 + y20^18 + 2*y20^17 + y20^14 + 2*y20^13 + 2*y20^12 + 2*y20^9 + 2*y20^7 + y20^6 + y20^5 + 2*y20^4 + y20^3 + 2*y20^2 + y20 + 2, y20^19 + y20^17 + y20^15 + y20^14 + 2*y20^13 + 2*y20^12 + y20^11 + 2*y20^9 + y20^8 + y20^7 + 2*y20^6 + y20^5 + y20^4 + 2*y20^3 + 2*y20^2 + y20 + 2, y20^19 + 2*y20^18 + 2*y20^17 + y20^15 + 2*y20^13 + y20^12 + y20^7 + y20^6 + 2*y20^5 + y20^2 + 2*y20, 1]\n"
     ]
    },
    {
     "name": "stdout",
     "output_type": "stream",
     "text": [
      "nu_power: 25  has gamma factors:  [1, y20^19 + 2*y20^18 + y20^16 + 2*y20^15 + 2*y20^12 + y20^11 + y20^10 + 2*y20^9 + y20^8 + y20^5 + y20^4 + y20^2 + y20 + 2, y20^17 + 2*y20^15 + 2*y20^14 + y20^11 + y20^10 + 2*y20^9 + y20^8 + 2*y20^7 + 2*y20^6 + 2*y20^5 + 2*y20^3 + y20 + 1, y20^19 + 2*y20^16 + 2*y20^15 + 2*y20^14 + 2*y20^11 + 2*y20^9 + 2*y20^7 + 2*y20^6 + y20^5 + 2*y20^4 + y20^3 + 2*y20^2 + y20 + 2, 2*y20^19 + y20^15 + 2*y20^14 + 2*y20^12 + y20^11 + 2*y20^10 + 2*y20^9 + y20^6 + 2*y20^3 + y20^2 + 2, 2, y20^19 + 2*y20^18 + 2*y20^17 + 2*y20^16 + 2*y20^15 + y20^14 + y20^13 + y20^12 + 2*y20^11 + 2*y20^10 + 2*y20^9 + 2*y20^8 + 2*y20^7 + y20^5 + y20^4 + y20^3 + y20^2 + 2*y20 + 2, y20^19 + 2*y20^18 + y20^17 + 2*y20^15 + y20^13 + y20^9 + 2*y20^6 + y20^4 + y20^2 + y20 + 2, y20^19 + 2*y20^18 + y20^16 + y20^15 + y20^14 + y20^11 + y20^9 + 2*y20^7 + y20^6 + 2*y20^5 + y20^4 + y20^3 + 2*y20, y20^19 + y20^18 + 2*y20^15 + 2*y20^12 + y20^11 + 2*y20^10 + y20^7 + y20^4 + y20^2 + 2, 2]\n"
     ]
    },
    {
     "name": "stdout",
     "output_type": "stream",
     "text": [
      "nu_power: 20  has gamma factors:  [1, y20^18 + 2*y20^17 + 2*y20^16 + 2*y20^15 + 2*y20^14 + 2*y20^13 + 2*y20^12 + 2*y20^11 + y20^8 + y20^7 + y20^6 + 2*y20 + 2, y20^19 + y20^18 + 2*y20^17 + y20^14 + 2*y20^13 + 2*y20^12 + 2*y20^9 + 2*y20^7 + y20^6 + y20^5 + 2*y20^4 + y20^3 + 2*y20^2 + y20 + 2, y20^19 + y20^17 + y20^15 + y20^14 + 2*y20^13 + 2*y20^12 + y20^11 + 2*y20^9 + y20^8 + y20^7 + 2*y20^6 + y20^5 + y20^4 + 2*y20^3 + 2*y20^2 + y20 + 2, y20^19 + 2*y20^18 + 2*y20^17 + y20^15 + 2*y20^13 + y20^12 + y20^7 + y20^6 + 2*y20^5 + y20^2 + 2*y20, 1, 2*y20^19 + 2*y20^17 + 2*y20^15 + 2*y20^14 + 2*y20^12 + 2*y20^11 + 2*y20^10 + 2*y20^8 + y20^7 + 2*y20^6 + y20^3 + y20 + 1, y20^18 + y20^17 + 2*y20^16 + 2*y20^15 + y20^14 + 2*y20^13 + 2*y20^12 + y20^11 + y20^10 + 2*y20^8 + y20^6 + y20^5 + 2*y20^4 + 2*y20^2 + 1, 2*y20^18 + 2*y20^17 + 2*y20^16 + 2*y20^15 + 2*y20^14 + 2*y20^13 + y20^12 + 2*y20^11 + 2*y20^8 + 2*y20^4 + 2*y20^3 + y20^2 + 2*y20 + 1, y20^19 + y20^17 + 2*y20^16 + y20^14 + 2*y20^12 + y20^11 + y20^10 + 2*y20^8 + 2*y20^7 + y20^6 + 2*y20^5 + 2*y20^4 + 2*y20^3 + 2*y20^2 + y20 + 2, 1]\n"
     ]
    },
    {
     "name": "stdout",
     "output_type": "stream",
     "text": [
      "\n",
      "For ell= 3 and q= 11  the duplicate gamma factors are the following:\n",
      "[]\n"
     ]
    }
   ],
   "source": [
    "#Choice of parameters to test for counterexamples\n",
    "#This pair is NOT a counterexample to the Converse Theorem\n",
    "ell = 3\n",
    "q= 11\n",
    "\n",
    "#setting up our fields\n",
    "C=AlgebraicClosureFiniteField(GF(ell), 'y')\n",
    "L.<w>=GF(q^2, modulus=\"primitive\") #w is a generator of the multiplicative group\n",
    "\n",
    "#Choice of primitive roots of unity\n",
    "m=q^2-1 #size of mult group of the quadratic extension L\n",
    "v_m=ell_adic_valuation(q^2-1) #ell-adic valuation of m\n",
    "coprime_m=Integer((q^2-1)/(ell^v_m)) # part of m coprime to ell\n",
    "nu=C.zeta(coprime_m)# our choice of mth root of unity\n",
    "\n",
    "n=q-1 #size of mult group of F\n",
    "v_n=ell_adic_valuation(q-1) #ell-adic valuation of n\n",
    "coprime_n=Integer((q-1)/(ell^v_n)) #part of n coprime to ell\n",
    "omega=C.zeta(coprime_n)# our choice of nth root of unity\n",
    "\n",
    "psi=C.zeta(q) #primitive qth root of unity mod ell the character psi sends 1 to this root\n",
    "\n",
    "###########################\n",
    "#Testing for duplicate gamma factors\n",
    "iscounterexample(q)"
   ]
  }
 ],
 "metadata": {
  "kernelspec": {
   "argv": [
    "sage-9.6",
    "--python",
    "-m",
    "sage.repl.ipython_kernel",
    "--matplotlib=inline",
    "-f",
    "{connection_file}"
   ],
   "display_name": "SageMath 9.6",
   "env": {
   },
   "language": "sagemath",
   "metadata": {
    "cocalc": {
     "description": "Open-source mathematical software system",
     "priority": 1,
     "url": "https://www.sagemath.org/"
    }
   },
   "name": "sage-9.6",
   "resource_dir": "/ext/jupyter/kernels/sage-9.6"
  },
  "language_info": {
   "codemirror_mode": {
    "name": "ipython",
    "version": 3
   },
   "file_extension": ".py",
   "mimetype": "text/x-python",
   "name": "python",
   "nbconvert_exporter": "python",
   "pygments_lexer": "ipython3",
   "version": "3.10.6"
  }
 },
 "nbformat": 4,
 "nbformat_minor": 4
}